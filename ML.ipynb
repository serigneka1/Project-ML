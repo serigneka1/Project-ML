{
 "cells": [
  {
   "cell_type": "code",
   "execution_count": 156,
   "id": "adafc74f-f1ae-424d-a5da-c63a5b0eda69",
   "metadata": {},
   "outputs": [],
   "source": [
    "import pandas as pd\n",
    "import numpy as np\n",
    "import matplotlib.pyplot as plt"
   ]
  },
  {
   "cell_type": "code",
   "execution_count": 183,
   "id": "e8cae387-d4eb-4c08-80e2-daa6ff644cca",
   "metadata": {},
   "outputs": [],
   "source": [
    "df=pd.read_csv(\"survey_results_public.csv\")"
   ]
  },
  {
   "cell_type": "code",
   "execution_count": 184,
   "id": "3ead4a16-cdf1-4d5c-9f83-0ab004c18ba3",
   "metadata": {},
   "outputs": [
    {
     "data": {
      "text/html": [
       "<div>\n",
       "<style scoped>\n",
       "    .dataframe tbody tr th:only-of-type {\n",
       "        vertical-align: middle;\n",
       "    }\n",
       "\n",
       "    .dataframe tbody tr th {\n",
       "        vertical-align: top;\n",
       "    }\n",
       "\n",
       "    .dataframe thead th {\n",
       "        text-align: right;\n",
       "    }\n",
       "</style>\n",
       "<table border=\"1\" class=\"dataframe\">\n",
       "  <thead>\n",
       "    <tr style=\"text-align: right;\">\n",
       "      <th></th>\n",
       "      <th>ResponseId</th>\n",
       "      <th>MainBranch</th>\n",
       "      <th>Employment</th>\n",
       "      <th>RemoteWork</th>\n",
       "      <th>CodingActivities</th>\n",
       "      <th>EdLevel</th>\n",
       "      <th>LearnCode</th>\n",
       "      <th>LearnCodeOnline</th>\n",
       "      <th>LearnCodeCoursesCert</th>\n",
       "      <th>YearsCode</th>\n",
       "      <th>...</th>\n",
       "      <th>TimeSearching</th>\n",
       "      <th>TimeAnswering</th>\n",
       "      <th>Onboarding</th>\n",
       "      <th>ProfessionalTech</th>\n",
       "      <th>TrueFalse_1</th>\n",
       "      <th>TrueFalse_2</th>\n",
       "      <th>TrueFalse_3</th>\n",
       "      <th>SurveyLength</th>\n",
       "      <th>SurveyEase</th>\n",
       "      <th>ConvertedCompYearly</th>\n",
       "    </tr>\n",
       "  </thead>\n",
       "  <tbody>\n",
       "    <tr>\n",
       "      <th>0</th>\n",
       "      <td>1</td>\n",
       "      <td>None of these</td>\n",
       "      <td>NaN</td>\n",
       "      <td>NaN</td>\n",
       "      <td>NaN</td>\n",
       "      <td>NaN</td>\n",
       "      <td>NaN</td>\n",
       "      <td>NaN</td>\n",
       "      <td>NaN</td>\n",
       "      <td>NaN</td>\n",
       "      <td>...</td>\n",
       "      <td>NaN</td>\n",
       "      <td>NaN</td>\n",
       "      <td>NaN</td>\n",
       "      <td>NaN</td>\n",
       "      <td>NaN</td>\n",
       "      <td>NaN</td>\n",
       "      <td>NaN</td>\n",
       "      <td>NaN</td>\n",
       "      <td>NaN</td>\n",
       "      <td>NaN</td>\n",
       "    </tr>\n",
       "    <tr>\n",
       "      <th>1</th>\n",
       "      <td>2</td>\n",
       "      <td>I am a developer by profession</td>\n",
       "      <td>Employed, full-time</td>\n",
       "      <td>Fully remote</td>\n",
       "      <td>Hobby;Contribute to open-source projects</td>\n",
       "      <td>NaN</td>\n",
       "      <td>NaN</td>\n",
       "      <td>NaN</td>\n",
       "      <td>NaN</td>\n",
       "      <td>NaN</td>\n",
       "      <td>...</td>\n",
       "      <td>NaN</td>\n",
       "      <td>NaN</td>\n",
       "      <td>NaN</td>\n",
       "      <td>NaN</td>\n",
       "      <td>NaN</td>\n",
       "      <td>NaN</td>\n",
       "      <td>NaN</td>\n",
       "      <td>Too long</td>\n",
       "      <td>Difficult</td>\n",
       "      <td>NaN</td>\n",
       "    </tr>\n",
       "    <tr>\n",
       "      <th>2</th>\n",
       "      <td>3</td>\n",
       "      <td>I am not primarily a developer, but I write co...</td>\n",
       "      <td>Employed, full-time</td>\n",
       "      <td>Hybrid (some remote, some in-person)</td>\n",
       "      <td>Hobby</td>\n",
       "      <td>Master’s degree (M.A., M.S., M.Eng., MBA, etc.)</td>\n",
       "      <td>Books / Physical media;Friend or family member...</td>\n",
       "      <td>Technical documentation;Blogs;Programming Game...</td>\n",
       "      <td>NaN</td>\n",
       "      <td>14</td>\n",
       "      <td>...</td>\n",
       "      <td>NaN</td>\n",
       "      <td>NaN</td>\n",
       "      <td>NaN</td>\n",
       "      <td>NaN</td>\n",
       "      <td>NaN</td>\n",
       "      <td>NaN</td>\n",
       "      <td>NaN</td>\n",
       "      <td>Appropriate in length</td>\n",
       "      <td>Neither easy nor difficult</td>\n",
       "      <td>40205.0</td>\n",
       "    </tr>\n",
       "  </tbody>\n",
       "</table>\n",
       "<p>3 rows × 79 columns</p>\n",
       "</div>"
      ],
      "text/plain": [
       "   ResponseId                                         MainBranch  \\\n",
       "0           1                                      None of these   \n",
       "1           2                     I am a developer by profession   \n",
       "2           3  I am not primarily a developer, but I write co...   \n",
       "\n",
       "            Employment                            RemoteWork  \\\n",
       "0                  NaN                                   NaN   \n",
       "1  Employed, full-time                          Fully remote   \n",
       "2  Employed, full-time  Hybrid (some remote, some in-person)   \n",
       "\n",
       "                           CodingActivities  \\\n",
       "0                                       NaN   \n",
       "1  Hobby;Contribute to open-source projects   \n",
       "2                                     Hobby   \n",
       "\n",
       "                                           EdLevel  \\\n",
       "0                                              NaN   \n",
       "1                                              NaN   \n",
       "2  Master’s degree (M.A., M.S., M.Eng., MBA, etc.)   \n",
       "\n",
       "                                           LearnCode  \\\n",
       "0                                                NaN   \n",
       "1                                                NaN   \n",
       "2  Books / Physical media;Friend or family member...   \n",
       "\n",
       "                                     LearnCodeOnline LearnCodeCoursesCert  \\\n",
       "0                                                NaN                  NaN   \n",
       "1                                                NaN                  NaN   \n",
       "2  Technical documentation;Blogs;Programming Game...                  NaN   \n",
       "\n",
       "  YearsCode  ... TimeSearching TimeAnswering Onboarding ProfessionalTech  \\\n",
       "0       NaN  ...           NaN           NaN        NaN              NaN   \n",
       "1       NaN  ...           NaN           NaN        NaN              NaN   \n",
       "2        14  ...           NaN           NaN        NaN              NaN   \n",
       "\n",
       "  TrueFalse_1 TrueFalse_2 TrueFalse_3           SurveyLength  \\\n",
       "0         NaN         NaN         NaN                    NaN   \n",
       "1         NaN         NaN         NaN               Too long   \n",
       "2         NaN         NaN         NaN  Appropriate in length   \n",
       "\n",
       "                   SurveyEase ConvertedCompYearly  \n",
       "0                         NaN                 NaN  \n",
       "1                   Difficult                 NaN  \n",
       "2  Neither easy nor difficult             40205.0  \n",
       "\n",
       "[3 rows x 79 columns]"
      ]
     },
     "execution_count": 184,
     "metadata": {},
     "output_type": "execute_result"
    }
   ],
   "source": [
    "df.head(3)"
   ]
  },
  {
   "cell_type": "code",
   "execution_count": 185,
   "id": "53cde7ef-cdc2-4f16-9f82-15a9c0fb5924",
   "metadata": {},
   "outputs": [
    {
     "data": {
      "text/plain": [
       "Index(['ResponseId', 'MainBranch', 'Employment', 'RemoteWork',\n",
       "       'CodingActivities', 'EdLevel', 'LearnCode', 'LearnCodeOnline',\n",
       "       'LearnCodeCoursesCert', 'YearsCode', 'YearsCodePro', 'DevType',\n",
       "       'OrgSize', 'PurchaseInfluence', 'BuyNewTool', 'Country', 'Currency',\n",
       "       'CompTotal', 'CompFreq', 'LanguageHaveWorkedWith',\n",
       "       'LanguageWantToWorkWith', 'DatabaseHaveWorkedWith',\n",
       "       'DatabaseWantToWorkWith', 'PlatformHaveWorkedWith',\n",
       "       'PlatformWantToWorkWith', 'WebframeHaveWorkedWith',\n",
       "       'WebframeWantToWorkWith', 'MiscTechHaveWorkedWith',\n",
       "       'MiscTechWantToWorkWith', 'ToolsTechHaveWorkedWith',\n",
       "       'ToolsTechWantToWorkWith', 'NEWCollabToolsHaveWorkedWith',\n",
       "       'NEWCollabToolsWantToWorkWith', 'OpSysProfessional use',\n",
       "       'OpSysPersonal use', 'VersionControlSystem', 'VCInteraction',\n",
       "       'VCHostingPersonal use', 'VCHostingProfessional use',\n",
       "       'OfficeStackAsyncHaveWorkedWith', 'OfficeStackAsyncWantToWorkWith',\n",
       "       'OfficeStackSyncHaveWorkedWith', 'OfficeStackSyncWantToWorkWith',\n",
       "       'Blockchain', 'NEWSOSites', 'SOVisitFreq', 'SOAccount', 'SOPartFreq',\n",
       "       'SOComm', 'Age', 'Gender', 'Trans', 'Sexuality', 'Ethnicity',\n",
       "       'Accessibility', 'MentalHealth', 'TBranch', 'ICorPM', 'WorkExp',\n",
       "       'Knowledge_1', 'Knowledge_2', 'Knowledge_3', 'Knowledge_4',\n",
       "       'Knowledge_5', 'Knowledge_6', 'Knowledge_7', 'Frequency_1',\n",
       "       'Frequency_2', 'Frequency_3', 'TimeSearching', 'TimeAnswering',\n",
       "       'Onboarding', 'ProfessionalTech', 'TrueFalse_1', 'TrueFalse_2',\n",
       "       'TrueFalse_3', 'SurveyLength', 'SurveyEase', 'ConvertedCompYearly'],\n",
       "      dtype='object')"
      ]
     },
     "execution_count": 185,
     "metadata": {},
     "output_type": "execute_result"
    }
   ],
   "source": [
    "df.columns"
   ]
  },
  {
   "cell_type": "code",
   "execution_count": 186,
   "id": "594a402a-5f78-4650-9185-4e6562c9f9e8",
   "metadata": {},
   "outputs": [],
   "source": [
    "df=df[[\"Country\", \"EdLevel\",'Employment', \"YearsCodePro\",\"ConvertedCompYearly\"]]\n",
    "df=df.rename({\"Country\":\"Pays\", \"EdLevel\":\"Niveau d'étude\",\"Employment\":\"Type d'emploi\", \n",
    "              \"YearsCodePro\":\"Année(s) d'expérience\",\"ConvertedCompYearly\":\"Salaire\"}, axis=1)"
   ]
  },
  {
   "cell_type": "code",
   "execution_count": 187,
   "id": "037e1730-8688-4070-b6d2-35fb67227a83",
   "metadata": {},
   "outputs": [
    {
     "data": {
      "text/html": [
       "<div>\n",
       "<style scoped>\n",
       "    .dataframe tbody tr th:only-of-type {\n",
       "        vertical-align: middle;\n",
       "    }\n",
       "\n",
       "    .dataframe tbody tr th {\n",
       "        vertical-align: top;\n",
       "    }\n",
       "\n",
       "    .dataframe thead th {\n",
       "        text-align: right;\n",
       "    }\n",
       "</style>\n",
       "<table border=\"1\" class=\"dataframe\">\n",
       "  <thead>\n",
       "    <tr style=\"text-align: right;\">\n",
       "      <th></th>\n",
       "      <th>Pays</th>\n",
       "      <th>Niveau d'étude</th>\n",
       "      <th>Type d'emploi</th>\n",
       "      <th>Année(s) d'expérience</th>\n",
       "      <th>Salaire</th>\n",
       "    </tr>\n",
       "  </thead>\n",
       "  <tbody>\n",
       "    <tr>\n",
       "      <th>0</th>\n",
       "      <td>NaN</td>\n",
       "      <td>NaN</td>\n",
       "      <td>NaN</td>\n",
       "      <td>NaN</td>\n",
       "      <td>NaN</td>\n",
       "    </tr>\n",
       "    <tr>\n",
       "      <th>1</th>\n",
       "      <td>Canada</td>\n",
       "      <td>NaN</td>\n",
       "      <td>Employed, full-time</td>\n",
       "      <td>NaN</td>\n",
       "      <td>NaN</td>\n",
       "    </tr>\n",
       "    <tr>\n",
       "      <th>2</th>\n",
       "      <td>United Kingdom of Great Britain and Northern I...</td>\n",
       "      <td>Master’s degree (M.A., M.S., M.Eng., MBA, etc.)</td>\n",
       "      <td>Employed, full-time</td>\n",
       "      <td>5</td>\n",
       "      <td>40205.0</td>\n",
       "    </tr>\n",
       "    <tr>\n",
       "      <th>3</th>\n",
       "      <td>Israel</td>\n",
       "      <td>Bachelor’s degree (B.A., B.S., B.Eng., etc.)</td>\n",
       "      <td>Employed, full-time</td>\n",
       "      <td>17</td>\n",
       "      <td>215232.0</td>\n",
       "    </tr>\n",
       "    <tr>\n",
       "      <th>4</th>\n",
       "      <td>United States of America</td>\n",
       "      <td>Bachelor’s degree (B.A., B.S., B.Eng., etc.)</td>\n",
       "      <td>Employed, full-time</td>\n",
       "      <td>3</td>\n",
       "      <td>NaN</td>\n",
       "    </tr>\n",
       "  </tbody>\n",
       "</table>\n",
       "</div>"
      ],
      "text/plain": [
       "                                                Pays  \\\n",
       "0                                                NaN   \n",
       "1                                             Canada   \n",
       "2  United Kingdom of Great Britain and Northern I...   \n",
       "3                                             Israel   \n",
       "4                           United States of America   \n",
       "\n",
       "                                    Niveau d'étude        Type d'emploi  \\\n",
       "0                                              NaN                  NaN   \n",
       "1                                              NaN  Employed, full-time   \n",
       "2  Master’s degree (M.A., M.S., M.Eng., MBA, etc.)  Employed, full-time   \n",
       "3     Bachelor’s degree (B.A., B.S., B.Eng., etc.)  Employed, full-time   \n",
       "4     Bachelor’s degree (B.A., B.S., B.Eng., etc.)  Employed, full-time   \n",
       "\n",
       "  Année(s) d'expérience   Salaire  \n",
       "0                   NaN       NaN  \n",
       "1                   NaN       NaN  \n",
       "2                     5   40205.0  \n",
       "3                    17  215232.0  \n",
       "4                     3       NaN  "
      ]
     },
     "execution_count": 187,
     "metadata": {},
     "output_type": "execute_result"
    }
   ],
   "source": [
    "df.head()"
   ]
  },
  {
   "cell_type": "code",
   "execution_count": 188,
   "id": "456dbb0f-28e1-4211-a0af-78b0f4bccb30",
   "metadata": {},
   "outputs": [
    {
     "data": {
      "text/plain": [
       "Pays                      1497\n",
       "Niveau d'étude            1697\n",
       "Type d'emploi             1559\n",
       "Année(s) d'expérience    21435\n",
       "Salaire                  35197\n",
       "dtype: int64"
      ]
     },
     "execution_count": 188,
     "metadata": {},
     "output_type": "execute_result"
    }
   ],
   "source": [
    "df.isna().sum()"
   ]
  },
  {
   "cell_type": "code",
   "execution_count": 189,
   "id": "ff0047c8-1273-4d72-938c-d48dfa494b41",
   "metadata": {},
   "outputs": [],
   "source": [
    "df=df[df[\"Salaire\"].notnull()]"
   ]
  },
  {
   "cell_type": "code",
   "execution_count": 190,
   "id": "95754a66-c601-4524-8c21-d62e72a39333",
   "metadata": {},
   "outputs": [
    {
     "data": {
      "text/plain": [
       "Pays                     0\n",
       "Niveau d'étude           0\n",
       "Type d'emploi            0\n",
       "Année(s) d'expérience    0\n",
       "Salaire                  0\n",
       "dtype: int64"
      ]
     },
     "execution_count": 190,
     "metadata": {},
     "output_type": "execute_result"
    }
   ],
   "source": [
    "# Supprimer les valeurs nulles\n",
    "df.dropna(inplace=True)\n",
    "df.isna().sum()"
   ]
  },
  {
   "cell_type": "code",
   "execution_count": 191,
   "id": "19817a12-9045-4df2-a346-3b5fffc3bbe3",
   "metadata": {},
   "outputs": [],
   "source": [
    "# Filtrer sur les temps plein\n",
    "df=df[df[\"Type d'emploi\"]== \"Employed, full-time\"]\n",
    "df=df.drop(\"Type d'emploi\", axis=1)"
   ]
  },
  {
   "cell_type": "code",
   "execution_count": 192,
   "id": "849ef978-0bd3-4444-a081-a8b57ff628b0",
   "metadata": {},
   "outputs": [
    {
     "data": {
      "text/plain": [
       "Pays\n",
       "United States of America                                7858\n",
       "Germany                                                 2382\n",
       "United Kingdom of Great Britain and Northern Ireland    2341\n",
       "India                                                   1869\n",
       "Canada                                                  1249\n",
       "                                                        ... \n",
       "Haiti                                                      1\n",
       "Zambia                                                     1\n",
       "Suriname                                                   1\n",
       "Somalia                                                    1\n",
       "Seychelles                                                 1\n",
       "Name: count, Length: 155, dtype: int64"
      ]
     },
     "execution_count": 192,
     "metadata": {},
     "output_type": "execute_result"
    }
   ],
   "source": [
    "df[\"Pays\"].value_counts()"
   ]
  },
  {
   "cell_type": "code",
   "execution_count": 193,
   "id": "41ca9307-a38c-488b-b937-5c638b7b8f05",
   "metadata": {},
   "outputs": [],
   "source": [
    "def sorten_categories(categories, cutoff):\n",
    "    categorical_map={}\n",
    "    for i in range(len(categories)):\n",
    "        if categories.values[i]>= cutoff:\n",
    "            categorical_map[categories.index[i]]= categories.index[i]\n",
    "        else:\n",
    "            categorical_map[categories.index[i]]= \"Autre\"\n",
    "    return categorical_map"
   ]
  },
  {
   "cell_type": "code",
   "execution_count": 194,
   "id": "9ea91bc1-397c-4070-9695-f4e48502ce52",
   "metadata": {},
   "outputs": [
    {
     "data": {
      "text/plain": [
       "Pays\n",
       "Autre                                                   8643\n",
       "United States of America                                7858\n",
       "Germany                                                 2382\n",
       "United Kingdom of Great Britain and Northern Ireland    2341\n",
       "India                                                   1869\n",
       "Canada                                                  1249\n",
       "France                                                  1126\n",
       "Brazil                                                  1014\n",
       "Spain                                                    858\n",
       "Netherlands                                              701\n",
       "Australia                                                700\n",
       "Italy                                                    667\n",
       "Poland                                                   572\n",
       "Sweden                                                   561\n",
       "Russian Federation                                       425\n",
       "Switzerland                                              416\n",
       "Name: count, dtype: int64"
      ]
     },
     "execution_count": 194,
     "metadata": {},
     "output_type": "execute_result"
    }
   ],
   "source": [
    "country_map=sorten_categories(df.Pays.value_counts(), 400)\n",
    "df[\"Pays\"]=df.Pays.map(country_map)\n",
    "df.Pays.value_counts()"
   ]
  },
  {
   "cell_type": "code",
   "execution_count": 195,
   "id": "49fc80c5-ef2c-43ea-9cc7-53d55bfd0c13",
   "metadata": {},
   "outputs": [
    {
     "data": {
      "image/png": "[encoded data removed]",
      "text/plain": [
       "<Figure size 1200x700 with 1 Axes>"
      ]
     },
     "metadata": {},
     "output_type": "display_data"
    }
   ],
   "source": [
    "fig, ax =plt.subplots(1,1, figsize=(12,7))\n",
    "df.boxplot(\"Salaire\", \"Pays\", ax=ax)\n",
    "plt.suptitle(\"Salaire par pays\")\n",
    "plt.title(\"\")\n",
    "plt.ylabel(\"Salaire\")\n",
    "plt.xticks(rotation=90)\n",
    "plt.show()"
   ]
  },
  {
   "cell_type": "code",
   "execution_count": 196,
   "id": "6d61a56d-3561-4d8a-ae93-2269e030735f",
   "metadata": {},
   "outputs": [],
   "source": [
    "df=df[(df[\"Salaire\"]>=10000)]\n",
    "df=df[df[\"Salaire\"]<=250000]\n",
    "df=df[df[\"Pays\"]!= \"Autre\"]"
   ]
  },
  {
   "cell_type": "code",
   "execution_count": 197,
   "id": "deeedb15-7888-4b46-976f-7a971619c673",
   "metadata": {},
   "outputs": [
    {
     "data": {
      "image/png": "[encoded data removed]",
      "text/plain": [
       "<Figure size 1200x700 with 1 Axes>"
      ]
     },
     "metadata": {},
     "output_type": "display_data"
    }
   ],
   "source": [
    "fig, ax =plt.subplots(1,1, figsize=(12,7))\n",
    "df.boxplot(\"Salaire\", \"Pays\", ax=ax)\n",
    "plt.suptitle(\"Salaire par pays\")\n",
    "plt.title(\"\")\n",
    "plt.ylabel(\"Salaire\")\n",
    "plt.xticks(rotation=90)\n",
    "plt.show()"
   ]
  },
  {
   "cell_type": "code",
   "execution_count": 198,
   "id": "2a7c9456-9536-4c86-af71-496e2fbc7ddf",
   "metadata": {},
   "outputs": [
    {
     "data": {
      "text/plain": [
       "array(['5', '6', '2', '4', '20', '9', '14', '21', '15', '25', '3', '10',\n",
       "       '8', '12', '7', '19', '17', '24', '1', '11', '23',\n",
       "       'Less than 1 year', '18', '37', '46', '22', '32', '13', '27', '28',\n",
       "       '16', '31', '34', '35', '26', '42', '38', '30', '36', '40', '41',\n",
       "       '29', '33', '39', '48', '45', '44', '43', 'More than 50 years',\n",
       "       '47', '49', '50'], dtype=object)"
      ]
     },
     "execution_count": 198,
     "metadata": {},
     "output_type": "execute_result"
    }
   ],
   "source": [
    "df[\"Année(s) d'expérience\"].unique()"
   ]
  },
  {
   "cell_type": "code",
   "execution_count": 199,
   "id": "fdfda2c0-7dba-4aa8-9b5e-c8a897cf6a82",
   "metadata": {},
   "outputs": [],
   "source": [
    "def clean_experience(x):\n",
    "    if x == 'More than 50 years':\n",
    "        return 50\n",
    "    if x == 'Less than 1 year':\n",
    "        return 0.5\n",
    "    return float(x)\n",
    "    "
   ]
  },
  {
   "cell_type": "code",
   "execution_count": 200,
   "id": "8a9db660-a1e5-442e-a6f3-c2f1a3cf23b4",
   "metadata": {},
   "outputs": [],
   "source": [
    "df[\"Année(s) d'expérience\"]=df[\"Année(s) d'expérience\"].apply(clean_experience)"
   ]
  },
  {
   "cell_type": "code",
   "execution_count": 201,
   "id": "3d1186a8-d2e3-46ad-824b-3f6bf8241448",
   "metadata": {},
   "outputs": [
    {
     "data": {
      "text/plain": [
       "['Master’s degree (M.A., M.S., M.Eng., MBA, etc.)',\n",
       " 'Bachelor’s degree (B.A., B.S., B.Eng., etc.)',\n",
       " 'Something else',\n",
       " 'Associate degree (A.A., A.S., etc.)',\n",
       " 'Some college/university study without earning a degree',\n",
       " 'Secondary school (e.g. American high school, German Realschule or Gymnasium, etc.)',\n",
       " 'Professional degree (JD, MD, etc.)',\n",
       " 'Other doctoral degree (Ph.D., Ed.D., etc.)',\n",
       " 'Primary/elementary school']"
      ]
     },
     "execution_count": 201,
     "metadata": {},
     "output_type": "execute_result"
    }
   ],
   "source": [
    "df[\"Niveau d'étude\"].unique().tolist()"
   ]
  },
  {
   "cell_type": "code",
   "execution_count": 202,
   "id": "2a65981a-7953-408f-b1ad-855134d33a10",
   "metadata": {},
   "outputs": [],
   "source": [
    "def clean_education(x):\n",
    "    if 'Bachelor’s degree' in x:\n",
    "        return \"Bachelor / Licence\"\n",
    "    if \"Master’s degree\" in x:\n",
    "        return \"Master\"\n",
    "    if \"Professional degree\" in x or \"Other doctoral\" in x:\n",
    "        return \"Post Master\"\n",
    "    return \"Inférieur au Bachelor\"\n",
    "\n",
    "df[\"Niveau d'étude\"]=df[\"Niveau d'étude\"].apply(clean_education)"
   ]
  },
  {
   "cell_type": "code",
   "execution_count": 205,
   "id": "c1818f2f-c01c-4f26-99fb-310d4dff7bd6",
   "metadata": {},
   "outputs": [
    {
     "data": {
      "text/plain": [
       "['Master', 'Bachelor / Licence', 'Inférieur au Bachelor', 'Post Master']"
      ]
     },
     "execution_count": 205,
     "metadata": {},
     "output_type": "execute_result"
    }
   ],
   "source": [
    "df[\"Niveau d'étude\"].unique().tolist()"
   ]
  },
  {
   "cell_type": "code",
   "execution_count": 179,
   "id": "6d9f43c5-f604-4b46-8af5-3afde42e6ea4",
   "metadata": {},
   "outputs": [],
   "source": [
    "from sklearn.preprocessing import LabelEncoder\n",
    "le_education=LabelEncoder()\n",
    "df[\"Niveau d'étude\"]=le_education.fit_transform(df[\"Niveau d'étude\"])"
   ]
  },
  {
   "cell_type": "code",
   "execution_count": 180,
   "id": "4afbbd4d-0bcd-4369-9392-7503c56e706d",
   "metadata": {},
   "outputs": [],
   "source": [
    "le_country=LabelEncoder()\n",
    "df[\"Pays\"]=le_country.fit_transform(df[\"Pays\"])"
   ]
  },
  {
   "cell_type": "code",
   "execution_count": 132,
   "id": "0d771f43-4c72-48bb-8933-ab5fb4ba9884",
   "metadata": {},
   "outputs": [],
   "source": [
    "# Diviser en train & test data\n",
    "x=df.drop(\"Salaire\", axis=1)\n",
    "y=df.Salaire"
   ]
  },
  {
   "cell_type": "code",
   "execution_count": 133,
   "id": "deef1f31-8c50-4faf-93d0-c07d54bae824",
   "metadata": {},
   "outputs": [
    {
     "data": {
      "text/html": [
       "<style>#sk-container-id-9 {color: black;}#sk-container-id-9 pre{padding: 0;}#sk-container-id-9 div.sk-toggleable {background-color: white;}#sk-container-id-9 label.sk-toggleable__label {cursor: pointer;display: block;width: 100%;margin-bottom: 0;padding: 0.3em;box-sizing: border-box;text-align: center;}#sk-container-id-9 label.sk-toggleable__label-arrow:before {content: \"▸\";float: left;margin-right: 0.25em;color: #696969;}#sk-container-id-9 label.sk-toggleable__label-arrow:hover:before {color: black;}#sk-container-id-9 div.sk-estimator:hover label.sk-toggleable__label-arrow:before {color: black;}#sk-container-id-9 div.sk-toggleable__content {max-height: 0;max-width: 0;overflow: hidden;text-align: left;background-color: #f0f8ff;}#sk-container-id-9 div.sk-toggleable__content pre {margin: 0.2em;color: black;border-radius: 0.25em;background-color: #f0f8ff;}#sk-container-id-9 input.sk-toggleable__control:checked~div.sk-toggleable__content {max-height: 200px;max-width: 100%;overflow: auto;}#sk-container-id-9 input.sk-toggleable__control:checked~label.sk-toggleable__label-arrow:before {content: \"▾\";}#sk-container-id-9 div.sk-estimator input.sk-toggleable__control:checked~label.sk-toggleable__label {background-color: #d4ebff;}#sk-container-id-9 div.sk-label input.sk-toggleable__control:checked~label.sk-toggleable__label {background-color: #d4ebff;}#sk-container-id-9 input.sk-hidden--visually {border: 0;clip: rect(1px 1px 1px 1px);clip: rect(1px, 1px, 1px, 1px);height: 1px;margin: -1px;overflow: hidden;padding: 0;position: absolute;width: 1px;}#sk-container-id-9 div.sk-estimator {font-family: monospace;background-color: #f0f8ff;border: 1px dotted black;border-radius: 0.25em;box-sizing: border-box;margin-bottom: 0.5em;}#sk-container-id-9 div.sk-estimator:hover {background-color: #d4ebff;}#sk-container-id-9 div.sk-parallel-item::after {content: \"\";width: 100%;border-bottom: 1px solid gray;flex-grow: 1;}#sk-container-id-9 div.sk-label:hover label.sk-toggleable__label {background-color: #d4ebff;}#sk-container-id-9 div.sk-serial::before {content: \"\";position: absolute;border-left: 1px solid gray;box-sizing: border-box;top: 0;bottom: 0;left: 50%;z-index: 0;}#sk-container-id-9 div.sk-serial {display: flex;flex-direction: column;align-items: center;background-color: white;padding-right: 0.2em;padding-left: 0.2em;position: relative;}#sk-container-id-9 div.sk-item {position: relative;z-index: 1;}#sk-container-id-9 div.sk-parallel {display: flex;align-items: stretch;justify-content: center;background-color: white;position: relative;}#sk-container-id-9 div.sk-item::before, #sk-container-id-9 div.sk-parallel-item::before {content: \"\";position: absolute;border-left: 1px solid gray;box-sizing: border-box;top: 0;bottom: 0;left: 50%;z-index: -1;}#sk-container-id-9 div.sk-parallel-item {display: flex;flex-direction: column;z-index: 1;position: relative;background-color: white;}#sk-container-id-9 div.sk-parallel-item:first-child::after {align-self: flex-end;width: 50%;}#sk-container-id-9 div.sk-parallel-item:last-child::after {align-self: flex-start;width: 50%;}#sk-container-id-9 div.sk-parallel-item:only-child::after {width: 0;}#sk-container-id-9 div.sk-dashed-wrapped {border: 1px dashed gray;margin: 0 0.4em 0.5em 0.4em;box-sizing: border-box;padding-bottom: 0.4em;background-color: white;}#sk-container-id-9 div.sk-label label {font-family: monospace;font-weight: bold;display: inline-block;line-height: 1.2em;}#sk-container-id-9 div.sk-label-container {text-align: center;}#sk-container-id-9 div.sk-container {/* jupyter's `normalize.less` sets `[hidden] { display: none; }` but bootstrap.min.css set `[hidden] { display: none !important; }` so we also need the `!important` here to be able to override the default hidden behavior on the sphinx rendered scikit-learn.org. See: https://github.com/scikit-learn/scikit-learn/issues/21755 */display: inline-block !important;position: relative;}#sk-container-id-9 div.sk-text-repr-fallback {display: none;}</style><div id=\"sk-container-id-9\" class=\"sk-top-container\"><div class=\"sk-text-repr-fallback\"><pre>LinearRegression()</pre><b>In a Jupyter environment, please rerun this cell to show the HTML representation or trust the notebook. <br />On GitHub, the HTML representation is unable to render, please try loading this page with nbviewer.org.</b></div><div class=\"sk-container\" hidden><div class=\"sk-item\"><div class=\"sk-estimator sk-toggleable\"><input class=\"sk-toggleable__control sk-hidden--visually\" id=\"sk-estimator-id-13\" type=\"checkbox\" checked><label for=\"sk-estimator-id-13\" class=\"sk-toggleable__label sk-toggleable__label-arrow\">LinearRegression</label><div class=\"sk-toggleable__content\"><pre>LinearRegression()</pre></div></div></div></div></div>"
      ],
      "text/plain": [
       "LinearRegression()"
      ]
     },
     "execution_count": 133,
     "metadata": {},
     "output_type": "execute_result"
    }
   ],
   "source": [
    "# Choix de pas diviser en train, validation & Data mais c'est ce qui se fait normalement\n",
    "from sklearn.linear_model import LinearRegression\n",
    "linear_reg=LinearRegression()\n",
    "linear_reg.fit(x, y.values)"
   ]
  },
  {
   "cell_type": "code",
   "execution_count": 134,
   "id": "d1d50dbc-9d06-41f2-a2c4-933d9585f11d",
   "metadata": {},
   "outputs": [],
   "source": [
    "y_pred=linear_reg.predict(x)"
   ]
  },
  {
   "cell_type": "code",
   "execution_count": 135,
   "id": "2bfbd87d-dd2a-47bb-8a98-9a75e0755999",
   "metadata": {},
   "outputs": [],
   "source": [
    "from sklearn.metrics import mean_absolute_error, mean_squared_error\n",
    "import numpy as np\n",
    "error= np.sqrt(mean_squared_error(y, y_pred))"
   ]
  },
  {
   "cell_type": "code",
   "execution_count": 136,
   "id": "6a2d71f4-77d0-4bff-b8db-321e33997f9b",
   "metadata": {},
   "outputs": [
    {
     "data": {
      "text/plain": [
       "44689.67485721425"
      ]
     },
     "execution_count": 136,
     "metadata": {},
     "output_type": "execute_result"
    }
   ],
   "source": [
    "error"
   ]
  },
  {
   "cell_type": "code",
   "execution_count": 137,
   "id": "b691849a-30a0-4fb6-a323-0bcf0ee0f1e5",
   "metadata": {},
   "outputs": [
    {
     "data": {
      "text/html": [
       "<style>#sk-container-id-10 {color: black;}#sk-container-id-10 pre{padding: 0;}#sk-container-id-10 div.sk-toggleable {background-color: white;}#sk-container-id-10 label.sk-toggleable__label {cursor: pointer;display: block;width: 100%;margin-bottom: 0;padding: 0.3em;box-sizing: border-box;text-align: center;}#sk-container-id-10 label.sk-toggleable__label-arrow:before {content: \"▸\";float: left;margin-right: 0.25em;color: #696969;}#sk-container-id-10 label.sk-toggleable__label-arrow:hover:before {color: black;}#sk-container-id-10 div.sk-estimator:hover label.sk-toggleable__label-arrow:before {color: black;}#sk-container-id-10 div.sk-toggleable__content {max-height: 0;max-width: 0;overflow: hidden;text-align: left;background-color: #f0f8ff;}#sk-container-id-10 div.sk-toggleable__content pre {margin: 0.2em;color: black;border-radius: 0.25em;background-color: #f0f8ff;}#sk-container-id-10 input.sk-toggleable__control:checked~div.sk-toggleable__content {max-height: 200px;max-width: 100%;overflow: auto;}#sk-container-id-10 input.sk-toggleable__control:checked~label.sk-toggleable__label-arrow:before {content: \"▾\";}#sk-container-id-10 div.sk-estimator input.sk-toggleable__control:checked~label.sk-toggleable__label {background-color: #d4ebff;}#sk-container-id-10 div.sk-label input.sk-toggleable__control:checked~label.sk-toggleable__label {background-color: #d4ebff;}#sk-container-id-10 input.sk-hidden--visually {border: 0;clip: rect(1px 1px 1px 1px);clip: rect(1px, 1px, 1px, 1px);height: 1px;margin: -1px;overflow: hidden;padding: 0;position: absolute;width: 1px;}#sk-container-id-10 div.sk-estimator {font-family: monospace;background-color: #f0f8ff;border: 1px dotted black;border-radius: 0.25em;box-sizing: border-box;margin-bottom: 0.5em;}#sk-container-id-10 div.sk-estimator:hover {background-color: #d4ebff;}#sk-container-id-10 div.sk-parallel-item::after {content: \"\";width: 100%;border-bottom: 1px solid gray;flex-grow: 1;}#sk-container-id-10 div.sk-label:hover label.sk-toggleable__label {background-color: #d4ebff;}#sk-container-id-10 div.sk-serial::before {content: \"\";position: absolute;border-left: 1px solid gray;box-sizing: border-box;top: 0;bottom: 0;left: 50%;z-index: 0;}#sk-container-id-10 div.sk-serial {display: flex;flex-direction: column;align-items: center;background-color: white;padding-right: 0.2em;padding-left: 0.2em;position: relative;}#sk-container-id-10 div.sk-item {position: relative;z-index: 1;}#sk-container-id-10 div.sk-parallel {display: flex;align-items: stretch;justify-content: center;background-color: white;position: relative;}#sk-container-id-10 div.sk-item::before, #sk-container-id-10 div.sk-parallel-item::before {content: \"\";position: absolute;border-left: 1px solid gray;box-sizing: border-box;top: 0;bottom: 0;left: 50%;z-index: -1;}#sk-container-id-10 div.sk-parallel-item {display: flex;flex-direction: column;z-index: 1;position: relative;background-color: white;}#sk-container-id-10 div.sk-parallel-item:first-child::after {align-self: flex-end;width: 50%;}#sk-container-id-10 div.sk-parallel-item:last-child::after {align-self: flex-start;width: 50%;}#sk-container-id-10 div.sk-parallel-item:only-child::after {width: 0;}#sk-container-id-10 div.sk-dashed-wrapped {border: 1px dashed gray;margin: 0 0.4em 0.5em 0.4em;box-sizing: border-box;padding-bottom: 0.4em;background-color: white;}#sk-container-id-10 div.sk-label label {font-family: monospace;font-weight: bold;display: inline-block;line-height: 1.2em;}#sk-container-id-10 div.sk-label-container {text-align: center;}#sk-container-id-10 div.sk-container {/* jupyter's `normalize.less` sets `[hidden] { display: none; }` but bootstrap.min.css set `[hidden] { display: none !important; }` so we also need the `!important` here to be able to override the default hidden behavior on the sphinx rendered scikit-learn.org. See: https://github.com/scikit-learn/scikit-learn/issues/21755 */display: inline-block !important;position: relative;}#sk-container-id-10 div.sk-text-repr-fallback {display: none;}</style><div id=\"sk-container-id-10\" class=\"sk-top-container\"><div class=\"sk-text-repr-fallback\"><pre>DecisionTreeRegressor()</pre><b>In a Jupyter environment, please rerun this cell to show the HTML representation or trust the notebook. <br />On GitHub, the HTML representation is unable to render, please try loading this page with nbviewer.org.</b></div><div class=\"sk-container\" hidden><div class=\"sk-item\"><div class=\"sk-estimator sk-toggleable\"><input class=\"sk-toggleable__control sk-hidden--visually\" id=\"sk-estimator-id-14\" type=\"checkbox\" checked><label for=\"sk-estimator-id-14\" class=\"sk-toggleable__label sk-toggleable__label-arrow\">DecisionTreeRegressor</label><div class=\"sk-toggleable__content\"><pre>DecisionTreeRegressor()</pre></div></div></div></div></div>"
      ],
      "text/plain": [
       "DecisionTreeRegressor()"
      ]
     },
     "execution_count": 137,
     "metadata": {},
     "output_type": "execute_result"
    }
   ],
   "source": [
    "from sklearn.tree import DecisionTreeRegressor\n",
    "dec_tree_reg=DecisionTreeRegressor()\n",
    "dec_tree_reg.fit(x, y.values)"
   ]
  },
  {
   "cell_type": "code",
   "execution_count": 138,
   "id": "9390f123-8699-427e-a926-d378da0a635e",
   "metadata": {},
   "outputs": [],
   "source": [
    "y_pred=dec_tree_reg.predict(x)"
   ]
  },
  {
   "cell_type": "code",
   "execution_count": 139,
   "id": "fb77d7b1-678f-46f5-a1ab-343cfd3ec504",
   "metadata": {},
   "outputs": [],
   "source": [
    "error= np.sqrt(mean_squared_error(y, y_pred))"
   ]
  },
  {
   "cell_type": "code",
   "execution_count": 140,
   "id": "fb09666b-4175-4181-a011-0159298495b0",
   "metadata": {},
   "outputs": [
    {
     "name": "stdout",
     "output_type": "stream",
     "text": [
      "erreur: 33529.799\n"
     ]
    }
   ],
   "source": [
    "print(f\"erreur: {round(error,3)}\")"
   ]
  },
  {
   "cell_type": "code",
   "execution_count": 141,
   "id": "93d95739-b6dc-4527-b190-e179fb658d09",
   "metadata": {},
   "outputs": [
    {
     "data": {
      "text/html": [
       "<style>#sk-container-id-11 {color: black;}#sk-container-id-11 pre{padding: 0;}#sk-container-id-11 div.sk-toggleable {background-color: white;}#sk-container-id-11 label.sk-toggleable__label {cursor: pointer;display: block;width: 100%;margin-bottom: 0;padding: 0.3em;box-sizing: border-box;text-align: center;}#sk-container-id-11 label.sk-toggleable__label-arrow:before {content: \"▸\";float: left;margin-right: 0.25em;color: #696969;}#sk-container-id-11 label.sk-toggleable__label-arrow:hover:before {color: black;}#sk-container-id-11 div.sk-estimator:hover label.sk-toggleable__label-arrow:before {color: black;}#sk-container-id-11 div.sk-toggleable__content {max-height: 0;max-width: 0;overflow: hidden;text-align: left;background-color: #f0f8ff;}#sk-container-id-11 div.sk-toggleable__content pre {margin: 0.2em;color: black;border-radius: 0.25em;background-color: #f0f8ff;}#sk-container-id-11 input.sk-toggleable__control:checked~div.sk-toggleable__content {max-height: 200px;max-width: 100%;overflow: auto;}#sk-container-id-11 input.sk-toggleable__control:checked~label.sk-toggleable__label-arrow:before {content: \"▾\";}#sk-container-id-11 div.sk-estimator input.sk-toggleable__control:checked~label.sk-toggleable__label {background-color: #d4ebff;}#sk-container-id-11 div.sk-label input.sk-toggleable__control:checked~label.sk-toggleable__label {background-color: #d4ebff;}#sk-container-id-11 input.sk-hidden--visually {border: 0;clip: rect(1px 1px 1px 1px);clip: rect(1px, 1px, 1px, 1px);height: 1px;margin: -1px;overflow: hidden;padding: 0;position: absolute;width: 1px;}#sk-container-id-11 div.sk-estimator {font-family: monospace;background-color: #f0f8ff;border: 1px dotted black;border-radius: 0.25em;box-sizing: border-box;margin-bottom: 0.5em;}#sk-container-id-11 div.sk-estimator:hover {background-color: #d4ebff;}#sk-container-id-11 div.sk-parallel-item::after {content: \"\";width: 100%;border-bottom: 1px solid gray;flex-grow: 1;}#sk-container-id-11 div.sk-label:hover label.sk-toggleable__label {background-color: #d4ebff;}#sk-container-id-11 div.sk-serial::before {content: \"\";position: absolute;border-left: 1px solid gray;box-sizing: border-box;top: 0;bottom: 0;left: 50%;z-index: 0;}#sk-container-id-11 div.sk-serial {display: flex;flex-direction: column;align-items: center;background-color: white;padding-right: 0.2em;padding-left: 0.2em;position: relative;}#sk-container-id-11 div.sk-item {position: relative;z-index: 1;}#sk-container-id-11 div.sk-parallel {display: flex;align-items: stretch;justify-content: center;background-color: white;position: relative;}#sk-container-id-11 div.sk-item::before, #sk-container-id-11 div.sk-parallel-item::before {content: \"\";position: absolute;border-left: 1px solid gray;box-sizing: border-box;top: 0;bottom: 0;left: 50%;z-index: -1;}#sk-container-id-11 div.sk-parallel-item {display: flex;flex-direction: column;z-index: 1;position: relative;background-color: white;}#sk-container-id-11 div.sk-parallel-item:first-child::after {align-self: flex-end;width: 50%;}#sk-container-id-11 div.sk-parallel-item:last-child::after {align-self: flex-start;width: 50%;}#sk-container-id-11 div.sk-parallel-item:only-child::after {width: 0;}#sk-container-id-11 div.sk-dashed-wrapped {border: 1px dashed gray;margin: 0 0.4em 0.5em 0.4em;box-sizing: border-box;padding-bottom: 0.4em;background-color: white;}#sk-container-id-11 div.sk-label label {font-family: monospace;font-weight: bold;display: inline-block;line-height: 1.2em;}#sk-container-id-11 div.sk-label-container {text-align: center;}#sk-container-id-11 div.sk-container {/* jupyter's `normalize.less` sets `[hidden] { display: none; }` but bootstrap.min.css set `[hidden] { display: none !important; }` so we also need the `!important` here to be able to override the default hidden behavior on the sphinx rendered scikit-learn.org. See: https://github.com/scikit-learn/scikit-learn/issues/21755 */display: inline-block !important;position: relative;}#sk-container-id-11 div.sk-text-repr-fallback {display: none;}</style><div id=\"sk-container-id-11\" class=\"sk-top-container\"><div class=\"sk-text-repr-fallback\"><pre>RandomForestRegressor()</pre><b>In a Jupyter environment, please rerun this cell to show the HTML representation or trust the notebook. <br />On GitHub, the HTML representation is unable to render, please try loading this page with nbviewer.org.</b></div><div class=\"sk-container\" hidden><div class=\"sk-item\"><div class=\"sk-estimator sk-toggleable\"><input class=\"sk-toggleable__control sk-hidden--visually\" id=\"sk-estimator-id-15\" type=\"checkbox\" checked><label for=\"sk-estimator-id-15\" class=\"sk-toggleable__label sk-toggleable__label-arrow\">RandomForestRegressor</label><div class=\"sk-toggleable__content\"><pre>RandomForestRegressor()</pre></div></div></div></div></div>"
      ],
      "text/plain": [
       "RandomForestRegressor()"
      ]
     },
     "execution_count": 141,
     "metadata": {},
     "output_type": "execute_result"
    }
   ],
   "source": [
    "from sklearn.ensemble import RandomForestRegressor\n",
    "random_forest_reg=RandomForestRegressor()\n",
    "random_forest_reg.fit(x,y.values)"
   ]
  },
  {
   "cell_type": "code",
   "execution_count": 142,
   "id": "812bb684-08c7-4ecd-84e0-45d1b843f601",
   "metadata": {},
   "outputs": [],
   "source": [
    "y_pred=random_forest_reg.predict(x)"
   ]
  },
  {
   "cell_type": "code",
   "execution_count": 143,
   "id": "54c02bd4-e2a5-4849-9739-f77fe038452d",
   "metadata": {},
   "outputs": [],
   "source": [
    "error= np.sqrt(mean_squared_error(y, y_pred))"
   ]
  },
  {
   "cell_type": "code",
   "execution_count": 144,
   "id": "a5c229e4-ead4-4ad9-bd49-7261ee2b2187",
   "metadata": {},
   "outputs": [
    {
     "name": "stdout",
     "output_type": "stream",
     "text": [
      "erreur: 33616.066\n"
     ]
    }
   ],
   "source": [
    "print(f\"erreur: {round(error,3)}\")"
   ]
  },
  {
   "cell_type": "code",
   "execution_count": 145,
   "id": "f3822101-b1f8-4441-8043-7c49b5b3a0ed",
   "metadata": {},
   "outputs": [
    {
     "data": {
      "text/html": [
       "<style>#sk-container-id-12 {color: black;}#sk-container-id-12 pre{padding: 0;}#sk-container-id-12 div.sk-toggleable {background-color: white;}#sk-container-id-12 label.sk-toggleable__label {cursor: pointer;display: block;width: 100%;margin-bottom: 0;padding: 0.3em;box-sizing: border-box;text-align: center;}#sk-container-id-12 label.sk-toggleable__label-arrow:before {content: \"▸\";float: left;margin-right: 0.25em;color: #696969;}#sk-container-id-12 label.sk-toggleable__label-arrow:hover:before {color: black;}#sk-container-id-12 div.sk-estimator:hover label.sk-toggleable__label-arrow:before {color: black;}#sk-container-id-12 div.sk-toggleable__content {max-height: 0;max-width: 0;overflow: hidden;text-align: left;background-color: #f0f8ff;}#sk-container-id-12 div.sk-toggleable__content pre {margin: 0.2em;color: black;border-radius: 0.25em;background-color: #f0f8ff;}#sk-container-id-12 input.sk-toggleable__control:checked~div.sk-toggleable__content {max-height: 200px;max-width: 100%;overflow: auto;}#sk-container-id-12 input.sk-toggleable__control:checked~label.sk-toggleable__label-arrow:before {content: \"▾\";}#sk-container-id-12 div.sk-estimator input.sk-toggleable__control:checked~label.sk-toggleable__label {background-color: #d4ebff;}#sk-container-id-12 div.sk-label input.sk-toggleable__control:checked~label.sk-toggleable__label {background-color: #d4ebff;}#sk-container-id-12 input.sk-hidden--visually {border: 0;clip: rect(1px 1px 1px 1px);clip: rect(1px, 1px, 1px, 1px);height: 1px;margin: -1px;overflow: hidden;padding: 0;position: absolute;width: 1px;}#sk-container-id-12 div.sk-estimator {font-family: monospace;background-color: #f0f8ff;border: 1px dotted black;border-radius: 0.25em;box-sizing: border-box;margin-bottom: 0.5em;}#sk-container-id-12 div.sk-estimator:hover {background-color: #d4ebff;}#sk-container-id-12 div.sk-parallel-item::after {content: \"\";width: 100%;border-bottom: 1px solid gray;flex-grow: 1;}#sk-container-id-12 div.sk-label:hover label.sk-toggleable__label {background-color: #d4ebff;}#sk-container-id-12 div.sk-serial::before {content: \"\";position: absolute;border-left: 1px solid gray;box-sizing: border-box;top: 0;bottom: 0;left: 50%;z-index: 0;}#sk-container-id-12 div.sk-serial {display: flex;flex-direction: column;align-items: center;background-color: white;padding-right: 0.2em;padding-left: 0.2em;position: relative;}#sk-container-id-12 div.sk-item {position: relative;z-index: 1;}#sk-container-id-12 div.sk-parallel {display: flex;align-items: stretch;justify-content: center;background-color: white;position: relative;}#sk-container-id-12 div.sk-item::before, #sk-container-id-12 div.sk-parallel-item::before {content: \"\";position: absolute;border-left: 1px solid gray;box-sizing: border-box;top: 0;bottom: 0;left: 50%;z-index: -1;}#sk-container-id-12 div.sk-parallel-item {display: flex;flex-direction: column;z-index: 1;position: relative;background-color: white;}#sk-container-id-12 div.sk-parallel-item:first-child::after {align-self: flex-end;width: 50%;}#sk-container-id-12 div.sk-parallel-item:last-child::after {align-self: flex-start;width: 50%;}#sk-container-id-12 div.sk-parallel-item:only-child::after {width: 0;}#sk-container-id-12 div.sk-dashed-wrapped {border: 1px dashed gray;margin: 0 0.4em 0.5em 0.4em;box-sizing: border-box;padding-bottom: 0.4em;background-color: white;}#sk-container-id-12 div.sk-label label {font-family: monospace;font-weight: bold;display: inline-block;line-height: 1.2em;}#sk-container-id-12 div.sk-label-container {text-align: center;}#sk-container-id-12 div.sk-container {/* jupyter's `normalize.less` sets `[hidden] { display: none; }` but bootstrap.min.css set `[hidden] { display: none !important; }` so we also need the `!important` here to be able to override the default hidden behavior on the sphinx rendered scikit-learn.org. See: https://github.com/scikit-learn/scikit-learn/issues/21755 */display: inline-block !important;position: relative;}#sk-container-id-12 div.sk-text-repr-fallback {display: none;}</style><div id=\"sk-container-id-12\" class=\"sk-top-container\"><div class=\"sk-text-repr-fallback\"><pre>GridSearchCV(estimator=DecisionTreeRegressor(random_state=0),\n",
       "             param_grid={&#x27;max_depth&#x27;: [None, 2, 4, 6, 8, 10, 12]},\n",
       "             scoring=&#x27;neg_mean_squared_error&#x27;)</pre><b>In a Jupyter environment, please rerun this cell to show the HTML representation or trust the notebook. <br />On GitHub, the HTML representation is unable to render, please try loading this page with nbviewer.org.</b></div><div class=\"sk-container\" hidden><div class=\"sk-item sk-dashed-wrapped\"><div class=\"sk-label-container\"><div class=\"sk-label sk-toggleable\"><input class=\"sk-toggleable__control sk-hidden--visually\" id=\"sk-estimator-id-16\" type=\"checkbox\" ><label for=\"sk-estimator-id-16\" class=\"sk-toggleable__label sk-toggleable__label-arrow\">GridSearchCV</label><div class=\"sk-toggleable__content\"><pre>GridSearchCV(estimator=DecisionTreeRegressor(random_state=0),\n",
       "             param_grid={&#x27;max_depth&#x27;: [None, 2, 4, 6, 8, 10, 12]},\n",
       "             scoring=&#x27;neg_mean_squared_error&#x27;)</pre></div></div></div><div class=\"sk-parallel\"><div class=\"sk-parallel-item\"><div class=\"sk-item\"><div class=\"sk-label-container\"><div class=\"sk-label sk-toggleable\"><input class=\"sk-toggleable__control sk-hidden--visually\" id=\"sk-estimator-id-17\" type=\"checkbox\" ><label for=\"sk-estimator-id-17\" class=\"sk-toggleable__label sk-toggleable__label-arrow\">estimator: DecisionTreeRegressor</label><div class=\"sk-toggleable__content\"><pre>DecisionTreeRegressor(random_state=0)</pre></div></div></div><div class=\"sk-serial\"><div class=\"sk-item\"><div class=\"sk-estimator sk-toggleable\"><input class=\"sk-toggleable__control sk-hidden--visually\" id=\"sk-estimator-id-18\" type=\"checkbox\" ><label for=\"sk-estimator-id-18\" class=\"sk-toggleable__label sk-toggleable__label-arrow\">DecisionTreeRegressor</label><div class=\"sk-toggleable__content\"><pre>DecisionTreeRegressor(random_state=0)</pre></div></div></div></div></div></div></div></div></div></div>"
      ],
      "text/plain": [
       "GridSearchCV(estimator=DecisionTreeRegressor(random_state=0),\n",
       "             param_grid={'max_depth': [None, 2, 4, 6, 8, 10, 12]},\n",
       "             scoring='neg_mean_squared_error')"
      ]
     },
     "execution_count": 145,
     "metadata": {},
     "output_type": "execute_result"
    }
   ],
   "source": [
    "from sklearn.model_selection import GridSearchCV\n",
    "\n",
    "max_depth = [None, 2,4,6,8,10,12]\n",
    "parameters={\"max_depth\":max_depth}\n",
    "\n",
    "regressor=DecisionTreeRegressor(random_state=0)\n",
    "gs=GridSearchCV(regressor,parameters, scoring='neg_mean_squared_error')\n",
    "gs.fit(x, y.values) \n"
   ]
  },
  {
   "cell_type": "code",
   "execution_count": 146,
   "id": "ee00de71-c628-42d3-91b0-e8496035ade3",
   "metadata": {},
   "outputs": [
    {
     "name": "stdout",
     "output_type": "stream",
     "text": [
      "erreur: \n",
      "34,864.27\n"
     ]
    }
   ],
   "source": [
    "regressor=gs.best_estimator_\n",
    "regressor.fit(x,y.values)\n",
    "y_pred=regressor.predict(x)\n",
    "error=np.sqrt(mean_squared_error(y,y_pred))\n",
    "print(\"erreur: \\n{:,.02f}\".format(error))"
   ]
  },
  {
   "cell_type": "code",
   "execution_count": 147,
   "id": "a08adc1e-32fd-41ff-8b2b-b29b81eaf6dd",
   "metadata": {},
   "outputs": [
    {
     "data": {
      "text/html": [
       "<div>\n",
       "<style scoped>\n",
       "    .dataframe tbody tr th:only-of-type {\n",
       "        vertical-align: middle;\n",
       "    }\n",
       "\n",
       "    .dataframe tbody tr th {\n",
       "        vertical-align: top;\n",
       "    }\n",
       "\n",
       "    .dataframe thead th {\n",
       "        text-align: right;\n",
       "    }\n",
       "</style>\n",
       "<table border=\"1\" class=\"dataframe\">\n",
       "  <thead>\n",
       "    <tr style=\"text-align: right;\">\n",
       "      <th></th>\n",
       "      <th>Pays</th>\n",
       "      <th>Niveau d'étude</th>\n",
       "      <th>Année(s) d'expérience</th>\n",
       "    </tr>\n",
       "  </thead>\n",
       "  <tbody>\n",
       "    <tr>\n",
       "      <th>2</th>\n",
       "      <td>13</td>\n",
       "      <td>2</td>\n",
       "      <td>5.0</td>\n",
       "    </tr>\n",
       "    <tr>\n",
       "      <th>8</th>\n",
       "      <td>7</td>\n",
       "      <td>2</td>\n",
       "      <td>6.0</td>\n",
       "    </tr>\n",
       "    <tr>\n",
       "      <th>10</th>\n",
       "      <td>13</td>\n",
       "      <td>0</td>\n",
       "      <td>2.0</td>\n",
       "    </tr>\n",
       "    <tr>\n",
       "      <th>12</th>\n",
       "      <td>14</td>\n",
       "      <td>0</td>\n",
       "      <td>5.0</td>\n",
       "    </tr>\n",
       "    <tr>\n",
       "      <th>21</th>\n",
       "      <td>6</td>\n",
       "      <td>2</td>\n",
       "      <td>4.0</td>\n",
       "    </tr>\n",
       "    <tr>\n",
       "      <th>...</th>\n",
       "      <td>...</td>\n",
       "      <td>...</td>\n",
       "      <td>...</td>\n",
       "    </tr>\n",
       "    <tr>\n",
       "      <th>73113</th>\n",
       "      <td>14</td>\n",
       "      <td>2</td>\n",
       "      <td>5.0</td>\n",
       "    </tr>\n",
       "    <tr>\n",
       "      <th>73116</th>\n",
       "      <td>14</td>\n",
       "      <td>0</td>\n",
       "      <td>16.0</td>\n",
       "    </tr>\n",
       "    <tr>\n",
       "      <th>73119</th>\n",
       "      <td>14</td>\n",
       "      <td>0</td>\n",
       "      <td>1.0</td>\n",
       "    </tr>\n",
       "    <tr>\n",
       "      <th>73120</th>\n",
       "      <td>10</td>\n",
       "      <td>0</td>\n",
       "      <td>2.0</td>\n",
       "    </tr>\n",
       "    <tr>\n",
       "      <th>73121</th>\n",
       "      <td>13</td>\n",
       "      <td>2</td>\n",
       "      <td>3.0</td>\n",
       "    </tr>\n",
       "  </tbody>\n",
       "</table>\n",
       "<p>19884 rows × 3 columns</p>\n",
       "</div>"
      ],
      "text/plain": [
       "       Pays  Niveau d'étude  Année(s) d'expérience\n",
       "2        13               2                    5.0\n",
       "8         7               2                    6.0\n",
       "10       13               0                    2.0\n",
       "12       14               0                    5.0\n",
       "21        6               2                    4.0\n",
       "...     ...             ...                    ...\n",
       "73113    14               2                    5.0\n",
       "73116    14               0                   16.0\n",
       "73119    14               0                    1.0\n",
       "73120    10               0                    2.0\n",
       "73121    13               2                    3.0\n",
       "\n",
       "[19884 rows x 3 columns]"
      ]
     },
     "execution_count": 147,
     "metadata": {},
     "output_type": "execute_result"
    }
   ],
   "source": [
    "x"
   ]
  },
  {
   "cell_type": "code",
   "execution_count": 148,
   "id": "2ea1242d-6e79-42ca-aac7-b00dd3222e69",
   "metadata": {},
   "outputs": [
    {
     "data": {
      "text/plain": [
       "array([['France', 'Master', '10']], dtype='<U21')"
      ]
     },
     "execution_count": 148,
     "metadata": {},
     "output_type": "execute_result"
    }
   ],
   "source": [
    "X=np.array([[\"France\", \"Master\", 10]])\n",
    "X"
   ]
  },
  {
   "cell_type": "code",
   "execution_count": 149,
   "id": "075a0e04-6c37-4301-a8e3-40b58693b474",
   "metadata": {},
   "outputs": [
    {
     "data": {
      "text/plain": [
       "array([[ 3.,  2., 10.]])"
      ]
     },
     "execution_count": 149,
     "metadata": {},
     "output_type": "execute_result"
    }
   ],
   "source": [
    "X[:,0]=le_country.transform(X[:,0])\n",
    "X[:,1]=le_education.transform(X[:,1])\n",
    "X=X.astype(float)\n",
    "X"
   ]
  },
  {
   "cell_type": "code",
   "execution_count": 150,
   "id": "5dc9ed03-a99e-4956-b672-719469fabcad",
   "metadata": {},
   "outputs": [
    {
     "name": "stderr",
     "output_type": "stream",
     "text": [
      "/Users/mac/Documents/ml_projects/MLprojects/venv/lib/python3.11/site-packages/sklearn/base.py:465: UserWarning: X does not have valid feature names, but DecisionTreeRegressor was fitted with feature names\n",
      "  warnings.warn(\n"
     ]
    },
    {
     "data": {
      "text/plain": [
       "array([65633.92697769])"
      ]
     },
     "execution_count": 150,
     "metadata": {},
     "output_type": "execute_result"
    }
   ],
   "source": [
    "y_pred=regressor.predict(X)\n",
    "y_pred"
   ]
  },
  {
   "cell_type": "code",
   "execution_count": 151,
   "id": "eaa99e16-362a-4a31-97b6-24a1101505cc",
   "metadata": {},
   "outputs": [],
   "source": [
    "import pickle"
   ]
  },
  {
   "cell_type": "code",
   "execution_count": 152,
   "id": "94a526ed-593f-44f1-b7dc-39939de8c474",
   "metadata": {},
   "outputs": [],
   "source": [
    "data={\"model\":regressor, \"le_country\":le_country, \"le_education\":le_education}\n",
    "with open('saved_steps.pkl', 'wb') as file:\n",
    "    pickle.dump(data,file)"
   ]
  },
  {
   "cell_type": "code",
   "execution_count": 153,
   "id": "6c27f291-9bc8-41f4-858d-61cf07e7e3be",
   "metadata": {},
   "outputs": [],
   "source": [
    "with open('saved_steps.pkl', 'rb') as file:\n",
    "    data = pickle.load(file)\n",
    "\n",
    "regressor_loaded=data[\"model\"]\n",
    "le_country=data[\"le_country\"]\n",
    "le_education=data[\"le_education\"]"
   ]
  },
  {
   "cell_type": "code",
   "execution_count": 154,
   "id": "cc0c4d7b-74a3-447b-a0b6-bf51abdd878d",
   "metadata": {},
   "outputs": [
    {
     "name": "stderr",
     "output_type": "stream",
     "text": [
      "/Users/mac/Documents/ml_projects/MLprojects/venv/lib/python3.11/site-packages/sklearn/base.py:465: UserWarning: X does not have valid feature names, but DecisionTreeRegressor was fitted with feature names\n",
      "  warnings.warn(\n"
     ]
    },
    {
     "data": {
      "text/plain": [
       "array([65633.92697769])"
      ]
     },
     "execution_count": 154,
     "metadata": {},
     "output_type": "execute_result"
    }
   ],
   "source": [
    "y_pred=regressor_loaded.predict(X)\n",
    "y_pred"
   ]
  },
  {
   "cell_type": "code",
   "execution_count": 155,
   "id": "71f83491-2a76-4a97-b270-0d1ab66dc5f4",
   "metadata": {},
   "outputs": [
    {
     "data": {
      "text/html": [
       "<div>\n",
       "<style scoped>\n",
       "    .dataframe tbody tr th:only-of-type {\n",
       "        vertical-align: middle;\n",
       "    }\n",
       "\n",
       "    .dataframe tbody tr th {\n",
       "        vertical-align: top;\n",
       "    }\n",
       "\n",
       "    .dataframe thead th {\n",
       "        text-align: right;\n",
       "    }\n",
       "</style>\n",
       "<table border=\"1\" class=\"dataframe\">\n",
       "  <thead>\n",
       "    <tr style=\"text-align: right;\">\n",
       "      <th></th>\n",
       "      <th>Pays</th>\n",
       "      <th>Niveau d'étude</th>\n",
       "      <th>Année(s) d'expérience</th>\n",
       "      <th>Salaire</th>\n",
       "    </tr>\n",
       "  </thead>\n",
       "  <tbody>\n",
       "    <tr>\n",
       "      <th>2</th>\n",
       "      <td>13</td>\n",
       "      <td>2</td>\n",
       "      <td>5.0</td>\n",
       "      <td>40205.0</td>\n",
       "    </tr>\n",
       "    <tr>\n",
       "      <th>8</th>\n",
       "      <td>7</td>\n",
       "      <td>2</td>\n",
       "      <td>6.0</td>\n",
       "      <td>49056.0</td>\n",
       "    </tr>\n",
       "    <tr>\n",
       "      <th>10</th>\n",
       "      <td>13</td>\n",
       "      <td>0</td>\n",
       "      <td>2.0</td>\n",
       "      <td>60307.0</td>\n",
       "    </tr>\n",
       "    <tr>\n",
       "      <th>12</th>\n",
       "      <td>14</td>\n",
       "      <td>0</td>\n",
       "      <td>5.0</td>\n",
       "      <td>65000.0</td>\n",
       "    </tr>\n",
       "    <tr>\n",
       "      <th>21</th>\n",
       "      <td>6</td>\n",
       "      <td>2</td>\n",
       "      <td>4.0</td>\n",
       "      <td>34126.0</td>\n",
       "    </tr>\n",
       "    <tr>\n",
       "      <th>...</th>\n",
       "      <td>...</td>\n",
       "      <td>...</td>\n",
       "      <td>...</td>\n",
       "      <td>...</td>\n",
       "    </tr>\n",
       "    <tr>\n",
       "      <th>73113</th>\n",
       "      <td>14</td>\n",
       "      <td>2</td>\n",
       "      <td>5.0</td>\n",
       "      <td>94000.0</td>\n",
       "    </tr>\n",
       "    <tr>\n",
       "      <th>73116</th>\n",
       "      <td>14</td>\n",
       "      <td>0</td>\n",
       "      <td>16.0</td>\n",
       "      <td>115000.0</td>\n",
       "    </tr>\n",
       "    <tr>\n",
       "      <th>73119</th>\n",
       "      <td>14</td>\n",
       "      <td>0</td>\n",
       "      <td>1.0</td>\n",
       "      <td>70000.0</td>\n",
       "    </tr>\n",
       "    <tr>\n",
       "      <th>73120</th>\n",
       "      <td>10</td>\n",
       "      <td>0</td>\n",
       "      <td>2.0</td>\n",
       "      <td>35192.0</td>\n",
       "    </tr>\n",
       "    <tr>\n",
       "      <th>73121</th>\n",
       "      <td>13</td>\n",
       "      <td>2</td>\n",
       "      <td>3.0</td>\n",
       "      <td>75384.0</td>\n",
       "    </tr>\n",
       "  </tbody>\n",
       "</table>\n",
       "<p>19884 rows × 4 columns</p>\n",
       "</div>"
      ],
      "text/plain": [
       "       Pays  Niveau d'étude  Année(s) d'expérience   Salaire\n",
       "2        13               2                    5.0   40205.0\n",
       "8         7               2                    6.0   49056.0\n",
       "10       13               0                    2.0   60307.0\n",
       "12       14               0                    5.0   65000.0\n",
       "21        6               2                    4.0   34126.0\n",
       "...     ...             ...                    ...       ...\n",
       "73113    14               2                    5.0   94000.0\n",
       "73116    14               0                   16.0  115000.0\n",
       "73119    14               0                    1.0   70000.0\n",
       "73120    10               0                    2.0   35192.0\n",
       "73121    13               2                    3.0   75384.0\n",
       "\n",
       "[19884 rows x 4 columns]"
      ]
     },
     "execution_count": 155,
     "metadata": {},
     "output_type": "execute_result"
    }
   ],
   "source": [
    "df"
   ]
  }
 ],
 "metadata": {
  "kernelspec": {
   "display_name": "My Virtual Environment",
   "language": "python",
   "name": "myenv"
  },
  "language_info": {
   "codemirror_mode": {
    "name": "ipython",
    "version": 3
   },
   "file_extension": ".py",
   "mimetype": "text/x-python",
   "name": "python",
   "nbconvert_exporter": "python",
   "pygments_lexer": "ipython3",
   "version": "3.11.3"
  }
 },
 "nbformat": 4,
 "nbformat_minor": 5
}
